{
 "cells": [
  {
   "cell_type": "code",
   "execution_count": 1,
   "metadata": {},
   "outputs": [],
   "source": [
    "import random # psuedo randomness generator\n",
    "import numpy as np # import numerical python\n",
    "import pandas as pd\n",
    "import matplotlib\n",
    "import matplotlib.pyplot as plt\n",
    "from cadCAD.configuration import Configuration\n",
    "\n",
    "#imported some addition utilities to help with configuration set-up\n",
    "from cadCAD.configuration.utils import config_sim\n",
    "from cadCAD.configuration import append_configs\n",
    "from cadCAD import configs"
   ]
  },
  {
   "cell_type": "code",
   "execution_count": 2,
   "metadata": {},
   "outputs": [],
   "source": [
    "# What does this do?\n",
    "np.set_printoptions(formatter={'float': lambda x: \"{0:0.2f}\".format(x)})\n"
   ]
  },
  {
   "cell_type": "code",
   "execution_count": 3,
   "metadata": {},
   "outputs": [],
   "source": [
    "# Params\n",
    "\n",
    "initial_conditions = {\n",
    "    'village_folk': {i:{'stuff': np.random.randint(1,10), 'tokens':0} for i in range(100)}, # initialize village folk and their stuff and cred_castle balances\n",
    "    'castle': 0, # the cred castle\n",
    "    'castle_token_supply': 0, # the amount of castle tokens\n",
    "}"
   ]
  },
  {
   "cell_type": "code",
   "execution_count": 4,
   "metadata": {},
   "outputs": [],
   "source": [
    "# Everyone in CredLand is crazy \n",
    "def villagers_be_crazy(params, step, sL, s):\n",
    "    n = len(s['village_folk']) #get the length of the list of villager indices\n",
    "    #print('go crazy')\n",
    "    index = np.random.randint(0, n) #pick a random integer from (0,.., n-1)\n",
    "    p = np.random.randint(55, 60)\n",
    "    if (p < 50):\n",
    "        #print(\"if 1\")\n",
    "        action = 'buy_castle_token'\n",
    "        #i need to buy FROM someone\n",
    "        #select the set of village_folk who have tokens\n",
    "        holders = [i for i in range(n) if s['village_folk'][i]['tokens']>0]\n",
    "        if len(holders)>0:\n",
    "            friend = np.random.choice(holders)\n",
    "        else:\n",
    "            action = None\n",
    "            friend = None\n",
    "        \n",
    "\n",
    "    #you cannot sell tokens you don't have\n",
    "    elif (p > 80)&(s['village_folk'][index]['tokens']>0):\n",
    "        #print(\"if 2\")\n",
    "        action = 'sell_castle_token'\n",
    "        #i need to sell TO someone\n",
    "        #select the set of village_folk who have stuff\n",
    "        stuff_havers = [i for i in range(n) if s['village_folk'][i]['stuff']>0]\n",
    "        friend = np.random.choice(stuff_havers)\n",
    "    \n",
    "    elif (p > 50):\n",
    "        #print(\"if 3\")\n",
    "        action = 'contribute'\n",
    "        friend = None\n",
    "    \n",
    "    #print(\"Carry out %s for villager %s\" % (action, index))\n",
    "    #print(s['village_folk'][index])\n",
    "    return ({'action': action, 'villager': index, 'friend':friend})\n",
    "\n",
    "#    return (x, y)"
   ]
  },
  {
   "cell_type": "code",
   "execution_count": 5,
   "metadata": {},
   "outputs": [],
   "source": [
    "# How villagers build the castle \n",
    "def build_castle(params, step, sL, s, _input):\n",
    "    action = _input['action']\n",
    "    #print(action)\n",
    "    y = 'castle' #this function updates the castle state\n",
    "    x = s[y]\n",
    "    if action == 'contribute':\n",
    "        x += 1\n",
    "    #print(y)\n",
    "    #print(x)\n",
    "    return (y, x)"
   ]
  },
  {
   "cell_type": "code",
   "execution_count": 6,
   "metadata": {},
   "outputs": [],
   "source": [
    "def account_castle_tokens(params, step, sL, s, _input):\n",
    "    action = _input['action']\n",
    "    #print(action)\n",
    "    y = 'castle_token_supply' #this function updates the castle state\n",
    "    x = s[y]\n",
    "    if action == 'contribute':\n",
    "        x += 1\n",
    "    #print(y)\n",
    "    #print(x)\n",
    "    return (y, x)"
   ]
  },
  {
   "cell_type": "code",
   "execution_count": 7,
   "metadata": {},
   "outputs": [],
   "source": [
    "# How villagers build the castle \n",
    "def royal_decree(params, step, sL, s, _input):\n",
    "    action = _input['action']\n",
    "    #print(action)\n",
    "    y = 'village_folk' #this function updates the castle state\n",
    "    x = s[y]\n",
    "    #print(y)\n",
    "    #print(type(x))\n",
    "    #print(x)\n",
    "    villager_index = _input['villager']\n",
    "    if action == 'contribute':\n",
    "        x[villager_index]['tokens'] = x[villager_index]['tokens'] +1\n",
    "    #print(type(x))\n",
    "    #print(x)\n",
    "    \n",
    "    return (y, x)"
   ]
  },
  {
   "cell_type": "code",
   "execution_count": 8,
   "metadata": {},
   "outputs": [],
   "source": [
    "# How villagers sell castle tokens\n",
    "def sell_castle_tokens(params, step, sL, s, _input):\n",
    "    action = _input['action']\n",
    "    #print('sell_castle_token')\n",
    "    y = 'village_folk'\n",
    "    x = s[y]\n",
    "    \n",
    "    if action == 'sell_castle_token':\n",
    "        #villager_index = _input['person'] #you used the key \"villager\" not 'person' \n",
    "        villager_index = _input['villager']\n",
    "        friend_index = _input['friend']\n",
    "        #token accounting\n",
    "        x[villager_index][1] -= 1 \n",
    "        x[friend_index][1] += 1 #typo index <-- indes\n",
    "        #stuff accounting\n",
    "        x[villager_index][0] += 1 \n",
    "        x[friend_index][0] -= 1 #typo index <-- indes\n",
    "\n",
    "    return(y, x)"
   ]
  },
  {
   "cell_type": "code",
   "execution_count": 9,
   "metadata": {},
   "outputs": [],
   "source": [
    "# How villagers buy castle tokens \n",
    "def buy_castle_tokens(params, step, sL, s, _input):\n",
    "    action = _input['action']\n",
    "    #print('buy_castle_token')\n",
    "    y = 'village_folk'\n",
    "    x = s[y]\n",
    "\n",
    "    if action == 'buy_castle_token':\n",
    "        #villager_index = _input['person'] #you used the key \"villager\" not 'person' \n",
    "        villager_index = _input['villager']\n",
    "        friend_index = _input['friend']\n",
    "        #token accounting\n",
    "        x[villager_index][1] += 1 \n",
    "        x[friend_index][1] -= 1 #typo index <-- indes\n",
    "        #stuff accounting\n",
    "        x[villager_index][0] -= 1 \n",
    "        x[friend_index][0] += 1 #typo index <-- indes\n",
    "    \n",
    "    return(y, x)\n",
    "\n",
    "#note if you are copy pasting code, it probably means you could collapse it into one function\n",
    "#eg, buy and sell here are the same thing but with a negative number for sell"
   ]
  },
  {
   "cell_type": "code",
   "execution_count": 10,
   "metadata": {},
   "outputs": [],
   "source": [
    "# Everyone in CredLand is crazy \n",
    "partial_state_update_blocks = [\n",
    "    { \n",
    "        'policies': {\n",
    "            'villagers_be_crazy': villagers_be_crazy\n",
    "        },\n",
    "        'variables': {\n",
    "            'castle': build_castle,\n",
    "            'village_folk': royal_decree,\n",
    "            'castle_token_supply': account_castle_tokens\n",
    " #           'buy_castle_tokens': buy_castle_tokens,\n",
    " #           'sell_castle_tokens': sell_castle_tokens\n",
    "        }\n",
    "    }\n",
    "]"
   ]
  },
  {
   "cell_type": "code",
   "execution_count": 11,
   "metadata": {},
   "outputs": [
    {
     "output_type": "execute_result",
     "data": {
      "text/plain": "1"
     },
     "metadata": {},
     "execution_count": 11
    }
   ],
   "source": [
    "len(partial_state_update_blocks)"
   ]
  },
  {
   "cell_type": "code",
   "execution_count": 12,
   "metadata": {},
   "outputs": [],
   "source": [
    "simulation_parameters = {\n",
    "    'T': range(50),\n",
    "    'N': 1,\n",
    "    'M': {}\n",
    "}"
   ]
  },
  {
   "cell_type": "code",
   "execution_count": 13,
   "metadata": {},
   "outputs": [],
   "source": [
    "# i replaced this with another cell which uses \"append_configs\" utility instead \n",
    "#---\n",
    "# config = Configuration(initial_state=initial_conditions,\n",
    "#                        partial_state_update_blocks=partial_state_update_blocks,\n",
    "#                        sim_config=simulation_parameters\n",
    "#                       )\n"
   ]
  },
  {
   "cell_type": "code",
   "execution_count": 14,
   "metadata": {},
   "outputs": [],
   "source": [
    "append_configs(\n",
    "    initial_state=initial_conditions, #dict containing variable names and initial values\n",
    "    partial_state_update_blocks=partial_state_update_blocks, #dict containing state update functions\n",
    "    sim_configs=simulation_parameters #dict containing simulation parameters\n",
    ")"
   ]
  },
  {
   "cell_type": "code",
   "execution_count": 15,
   "metadata": {
    "tags": []
   },
   "outputs": [],
   "source": [
    "# What does this do and why doesn't it work?\n",
    "# this provides instructions to your computer on how to run your model\n",
    "# since nothing actually gets executed until this cell, errors the model above\n",
    "# trigger errors when you run this cell\n",
    "from cadCAD.engine import ExecutionMode, ExecutionContext\n",
    "exec_mode = ExecutionMode()\n",
    "local_mode_ctx = ExecutionContext(context=exec_mode.local_mode)"
   ]
  },
  {
   "cell_type": "code",
   "execution_count": 16,
   "metadata": {},
   "outputs": [],
   "source": [
    "from cadCAD.engine import Executor\n",
    "from cadCAD import configs\n",
    "simulation = Executor(exec_context=local_mode_ctx, configs=configs)"
   ]
  },
  {
   "cell_type": "code",
   "execution_count": 17,
   "metadata": {
    "tags": []
   },
   "outputs": [
    {
     "output_type": "stream",
     "name": "stdout",
     "text": "Configurations Length: 1\nExecution Method: local_simulations\nExecution Mode: single_threaded\n"
    }
   ],
   "source": [
    "import pandas as pd\n",
    "raw_system_events, tensor_field, sessions = simulation.execute()\n",
    "\n",
    "# Simulation Result Types:\n",
    "# raw_system_events: List[dict] \n",
    "# tensor_field: pd.DataFrame\n",
    "\n",
    "# Result System Events DataFrame\n",
    "simulation_result = pd.DataFrame(raw_system_events)"
   ]
  },
  {
   "cell_type": "code",
   "execution_count": 18,
   "metadata": {},
   "outputs": [
    {
     "output_type": "execute_result",
     "data": {
      "text/plain": "                                         village_folk  castle  \\\n0   {0: {'stuff': 9, 'tokens': 0}, 1: {'stuff': 8,...       0   \n1   {0: {'stuff': 9, 'tokens': 0}, 1: {'stuff': 8,...       1   \n2   {0: {'stuff': 9, 'tokens': 0}, 1: {'stuff': 8,...       2   \n3   {0: {'stuff': 9, 'tokens': 0}, 1: {'stuff': 8,...       3   \n4   {0: {'stuff': 9, 'tokens': 0}, 1: {'stuff': 8,...       4   \n5   {0: {'stuff': 9, 'tokens': 0}, 1: {'stuff': 8,...       5   \n6   {0: {'stuff': 9, 'tokens': 0}, 1: {'stuff': 8,...       6   \n7   {0: {'stuff': 9, 'tokens': 0}, 1: {'stuff': 8,...       7   \n8   {0: {'stuff': 9, 'tokens': 0}, 1: {'stuff': 8,...       8   \n9   {0: {'stuff': 9, 'tokens': 0}, 1: {'stuff': 8,...       9   \n10  {0: {'stuff': 9, 'tokens': 0}, 1: {'stuff': 8,...      10   \n11  {0: {'stuff': 9, 'tokens': 0}, 1: {'stuff': 8,...      11   \n12  {0: {'stuff': 9, 'tokens': 0}, 1: {'stuff': 8,...      12   \n13  {0: {'stuff': 9, 'tokens': 0}, 1: {'stuff': 8,...      13   \n14  {0: {'stuff': 9, 'tokens': 0}, 1: {'stuff': 8,...      14   \n15  {0: {'stuff': 9, 'tokens': 0}, 1: {'stuff': 8,...      15   \n16  {0: {'stuff': 9, 'tokens': 0}, 1: {'stuff': 8,...      16   \n17  {0: {'stuff': 9, 'tokens': 0}, 1: {'stuff': 8,...      17   \n18  {0: {'stuff': 9, 'tokens': 0}, 1: {'stuff': 8,...      18   \n19  {0: {'stuff': 9, 'tokens': 0}, 1: {'stuff': 8,...      19   \n20  {0: {'stuff': 9, 'tokens': 0}, 1: {'stuff': 8,...      20   \n21  {0: {'stuff': 9, 'tokens': 0}, 1: {'stuff': 8,...      21   \n22  {0: {'stuff': 9, 'tokens': 0}, 1: {'stuff': 8,...      22   \n23  {0: {'stuff': 9, 'tokens': 0}, 1: {'stuff': 8,...      23   \n24  {0: {'stuff': 9, 'tokens': 0}, 1: {'stuff': 8,...      24   \n25  {0: {'stuff': 9, 'tokens': 0}, 1: {'stuff': 8,...      25   \n26  {0: {'stuff': 9, 'tokens': 0}, 1: {'stuff': 8,...      26   \n27  {0: {'stuff': 9, 'tokens': 0}, 1: {'stuff': 8,...      27   \n28  {0: {'stuff': 9, 'tokens': 0}, 1: {'stuff': 8,...      28   \n29  {0: {'stuff': 9, 'tokens': 0}, 1: {'stuff': 8,...      29   \n30  {0: {'stuff': 9, 'tokens': 0}, 1: {'stuff': 8,...      30   \n31  {0: {'stuff': 9, 'tokens': 0}, 1: {'stuff': 8,...      31   \n32  {0: {'stuff': 9, 'tokens': 0}, 1: {'stuff': 8,...      32   \n33  {0: {'stuff': 9, 'tokens': 0}, 1: {'stuff': 8,...      33   \n34  {0: {'stuff': 9, 'tokens': 0}, 1: {'stuff': 8,...      34   \n35  {0: {'stuff': 9, 'tokens': 0}, 1: {'stuff': 8,...      35   \n36  {0: {'stuff': 9, 'tokens': 0}, 1: {'stuff': 8,...      36   \n37  {0: {'stuff': 9, 'tokens': 0}, 1: {'stuff': 8,...      37   \n38  {0: {'stuff': 9, 'tokens': 0}, 1: {'stuff': 8,...      38   \n39  {0: {'stuff': 9, 'tokens': 0}, 1: {'stuff': 8,...      39   \n40  {0: {'stuff': 9, 'tokens': 0}, 1: {'stuff': 8,...      40   \n41  {0: {'stuff': 9, 'tokens': 0}, 1: {'stuff': 8,...      41   \n42  {0: {'stuff': 9, 'tokens': 0}, 1: {'stuff': 8,...      42   \n43  {0: {'stuff': 9, 'tokens': 0}, 1: {'stuff': 8,...      43   \n44  {0: {'stuff': 9, 'tokens': 0}, 1: {'stuff': 8,...      44   \n45  {0: {'stuff': 9, 'tokens': 0}, 1: {'stuff': 8,...      45   \n46  {0: {'stuff': 9, 'tokens': 0}, 1: {'stuff': 8,...      46   \n47  {0: {'stuff': 9, 'tokens': 0}, 1: {'stuff': 8,...      47   \n48  {0: {'stuff': 9, 'tokens': 0}, 1: {'stuff': 8,...      48   \n49  {0: {'stuff': 9, 'tokens': 0}, 1: {'stuff': 8,...      49   \n50  {0: {'stuff': 9, 'tokens': 0}, 1: {'stuff': 8,...      50   \n\n    castle_token_supply  simulation  run  substep  timestep  \n0                     0           0    1        0         0  \n1                     1           0    1        0         1  \n2                     2           0    1        0         2  \n3                     3           0    1        0         3  \n4                     4           0    1        0         4  \n5                     5           0    1        0         5  \n6                     6           0    1        0         6  \n7                     7           0    1        0         7  \n8                     8           0    1        0         8  \n9                     9           0    1        0         9  \n10                   10           0    1        0        10  \n11                   11           0    1        0        11  \n12                   12           0    1        0        12  \n13                   13           0    1        0        13  \n14                   14           0    1        0        14  \n15                   15           0    1        0        15  \n16                   16           0    1        0        16  \n17                   17           0    1        0        17  \n18                   18           0    1        0        18  \n19                   19           0    1        0        19  \n20                   20           0    1        0        20  \n21                   21           0    1        0        21  \n22                   22           0    1        0        22  \n23                   23           0    1        0        23  \n24                   24           0    1        0        24  \n25                   25           0    1        0        25  \n26                   26           0    1        0        26  \n27                   27           0    1        0        27  \n28                   28           0    1        0        28  \n29                   29           0    1        0        29  \n30                   30           0    1        0        30  \n31                   31           0    1        0        31  \n32                   32           0    1        0        32  \n33                   33           0    1        0        33  \n34                   34           0    1        0        34  \n35                   35           0    1        0        35  \n36                   36           0    1        0        36  \n37                   37           0    1        0        37  \n38                   38           0    1        0        38  \n39                   39           0    1        0        39  \n40                   40           0    1        0        40  \n41                   41           0    1        0        41  \n42                   42           0    1        0        42  \n43                   43           0    1        0        43  \n44                   44           0    1        0        44  \n45                   45           0    1        0        45  \n46                   46           0    1        0        46  \n47                   47           0    1        0        47  \n48                   48           0    1        0        48  \n49                   49           0    1        0        49  \n50                   50           0    1        1        50  ",
      "text/html": "<div>\n<style scoped>\n    .dataframe tbody tr th:only-of-type {\n        vertical-align: middle;\n    }\n\n    .dataframe tbody tr th {\n        vertical-align: top;\n    }\n\n    .dataframe thead th {\n        text-align: right;\n    }\n</style>\n<table border=\"1\" class=\"dataframe\">\n  <thead>\n    <tr style=\"text-align: right;\">\n      <th></th>\n      <th>village_folk</th>\n      <th>castle</th>\n      <th>castle_token_supply</th>\n      <th>simulation</th>\n      <th>run</th>\n      <th>substep</th>\n      <th>timestep</th>\n    </tr>\n  </thead>\n  <tbody>\n    <tr>\n      <th>0</th>\n      <td>{0: {'stuff': 9, 'tokens': 0}, 1: {'stuff': 8,...</td>\n      <td>0</td>\n      <td>0</td>\n      <td>0</td>\n      <td>1</td>\n      <td>0</td>\n      <td>0</td>\n    </tr>\n    <tr>\n      <th>1</th>\n      <td>{0: {'stuff': 9, 'tokens': 0}, 1: {'stuff': 8,...</td>\n      <td>1</td>\n      <td>1</td>\n      <td>0</td>\n      <td>1</td>\n      <td>0</td>\n      <td>1</td>\n    </tr>\n    <tr>\n      <th>2</th>\n      <td>{0: {'stuff': 9, 'tokens': 0}, 1: {'stuff': 8,...</td>\n      <td>2</td>\n      <td>2</td>\n      <td>0</td>\n      <td>1</td>\n      <td>0</td>\n      <td>2</td>\n    </tr>\n    <tr>\n      <th>3</th>\n      <td>{0: {'stuff': 9, 'tokens': 0}, 1: {'stuff': 8,...</td>\n      <td>3</td>\n      <td>3</td>\n      <td>0</td>\n      <td>1</td>\n      <td>0</td>\n      <td>3</td>\n    </tr>\n    <tr>\n      <th>4</th>\n      <td>{0: {'stuff': 9, 'tokens': 0}, 1: {'stuff': 8,...</td>\n      <td>4</td>\n      <td>4</td>\n      <td>0</td>\n      <td>1</td>\n      <td>0</td>\n      <td>4</td>\n    </tr>\n    <tr>\n      <th>5</th>\n      <td>{0: {'stuff': 9, 'tokens': 0}, 1: {'stuff': 8,...</td>\n      <td>5</td>\n      <td>5</td>\n      <td>0</td>\n      <td>1</td>\n      <td>0</td>\n      <td>5</td>\n    </tr>\n    <tr>\n      <th>6</th>\n      <td>{0: {'stuff': 9, 'tokens': 0}, 1: {'stuff': 8,...</td>\n      <td>6</td>\n      <td>6</td>\n      <td>0</td>\n      <td>1</td>\n      <td>0</td>\n      <td>6</td>\n    </tr>\n    <tr>\n      <th>7</th>\n      <td>{0: {'stuff': 9, 'tokens': 0}, 1: {'stuff': 8,...</td>\n      <td>7</td>\n      <td>7</td>\n      <td>0</td>\n      <td>1</td>\n      <td>0</td>\n      <td>7</td>\n    </tr>\n    <tr>\n      <th>8</th>\n      <td>{0: {'stuff': 9, 'tokens': 0}, 1: {'stuff': 8,...</td>\n      <td>8</td>\n      <td>8</td>\n      <td>0</td>\n      <td>1</td>\n      <td>0</td>\n      <td>8</td>\n    </tr>\n    <tr>\n      <th>9</th>\n      <td>{0: {'stuff': 9, 'tokens': 0}, 1: {'stuff': 8,...</td>\n      <td>9</td>\n      <td>9</td>\n      <td>0</td>\n      <td>1</td>\n      <td>0</td>\n      <td>9</td>\n    </tr>\n    <tr>\n      <th>10</th>\n      <td>{0: {'stuff': 9, 'tokens': 0}, 1: {'stuff': 8,...</td>\n      <td>10</td>\n      <td>10</td>\n      <td>0</td>\n      <td>1</td>\n      <td>0</td>\n      <td>10</td>\n    </tr>\n    <tr>\n      <th>11</th>\n      <td>{0: {'stuff': 9, 'tokens': 0}, 1: {'stuff': 8,...</td>\n      <td>11</td>\n      <td>11</td>\n      <td>0</td>\n      <td>1</td>\n      <td>0</td>\n      <td>11</td>\n    </tr>\n    <tr>\n      <th>12</th>\n      <td>{0: {'stuff': 9, 'tokens': 0}, 1: {'stuff': 8,...</td>\n      <td>12</td>\n      <td>12</td>\n      <td>0</td>\n      <td>1</td>\n      <td>0</td>\n      <td>12</td>\n    </tr>\n    <tr>\n      <th>13</th>\n      <td>{0: {'stuff': 9, 'tokens': 0}, 1: {'stuff': 8,...</td>\n      <td>13</td>\n      <td>13</td>\n      <td>0</td>\n      <td>1</td>\n      <td>0</td>\n      <td>13</td>\n    </tr>\n    <tr>\n      <th>14</th>\n      <td>{0: {'stuff': 9, 'tokens': 0}, 1: {'stuff': 8,...</td>\n      <td>14</td>\n      <td>14</td>\n      <td>0</td>\n      <td>1</td>\n      <td>0</td>\n      <td>14</td>\n    </tr>\n    <tr>\n      <th>15</th>\n      <td>{0: {'stuff': 9, 'tokens': 0}, 1: {'stuff': 8,...</td>\n      <td>15</td>\n      <td>15</td>\n      <td>0</td>\n      <td>1</td>\n      <td>0</td>\n      <td>15</td>\n    </tr>\n    <tr>\n      <th>16</th>\n      <td>{0: {'stuff': 9, 'tokens': 0}, 1: {'stuff': 8,...</td>\n      <td>16</td>\n      <td>16</td>\n      <td>0</td>\n      <td>1</td>\n      <td>0</td>\n      <td>16</td>\n    </tr>\n    <tr>\n      <th>17</th>\n      <td>{0: {'stuff': 9, 'tokens': 0}, 1: {'stuff': 8,...</td>\n      <td>17</td>\n      <td>17</td>\n      <td>0</td>\n      <td>1</td>\n      <td>0</td>\n      <td>17</td>\n    </tr>\n    <tr>\n      <th>18</th>\n      <td>{0: {'stuff': 9, 'tokens': 0}, 1: {'stuff': 8,...</td>\n      <td>18</td>\n      <td>18</td>\n      <td>0</td>\n      <td>1</td>\n      <td>0</td>\n      <td>18</td>\n    </tr>\n    <tr>\n      <th>19</th>\n      <td>{0: {'stuff': 9, 'tokens': 0}, 1: {'stuff': 8,...</td>\n      <td>19</td>\n      <td>19</td>\n      <td>0</td>\n      <td>1</td>\n      <td>0</td>\n      <td>19</td>\n    </tr>\n    <tr>\n      <th>20</th>\n      <td>{0: {'stuff': 9, 'tokens': 0}, 1: {'stuff': 8,...</td>\n      <td>20</td>\n      <td>20</td>\n      <td>0</td>\n      <td>1</td>\n      <td>0</td>\n      <td>20</td>\n    </tr>\n    <tr>\n      <th>21</th>\n      <td>{0: {'stuff': 9, 'tokens': 0}, 1: {'stuff': 8,...</td>\n      <td>21</td>\n      <td>21</td>\n      <td>0</td>\n      <td>1</td>\n      <td>0</td>\n      <td>21</td>\n    </tr>\n    <tr>\n      <th>22</th>\n      <td>{0: {'stuff': 9, 'tokens': 0}, 1: {'stuff': 8,...</td>\n      <td>22</td>\n      <td>22</td>\n      <td>0</td>\n      <td>1</td>\n      <td>0</td>\n      <td>22</td>\n    </tr>\n    <tr>\n      <th>23</th>\n      <td>{0: {'stuff': 9, 'tokens': 0}, 1: {'stuff': 8,...</td>\n      <td>23</td>\n      <td>23</td>\n      <td>0</td>\n      <td>1</td>\n      <td>0</td>\n      <td>23</td>\n    </tr>\n    <tr>\n      <th>24</th>\n      <td>{0: {'stuff': 9, 'tokens': 0}, 1: {'stuff': 8,...</td>\n      <td>24</td>\n      <td>24</td>\n      <td>0</td>\n      <td>1</td>\n      <td>0</td>\n      <td>24</td>\n    </tr>\n    <tr>\n      <th>25</th>\n      <td>{0: {'stuff': 9, 'tokens': 0}, 1: {'stuff': 8,...</td>\n      <td>25</td>\n      <td>25</td>\n      <td>0</td>\n      <td>1</td>\n      <td>0</td>\n      <td>25</td>\n    </tr>\n    <tr>\n      <th>26</th>\n      <td>{0: {'stuff': 9, 'tokens': 0}, 1: {'stuff': 8,...</td>\n      <td>26</td>\n      <td>26</td>\n      <td>0</td>\n      <td>1</td>\n      <td>0</td>\n      <td>26</td>\n    </tr>\n    <tr>\n      <th>27</th>\n      <td>{0: {'stuff': 9, 'tokens': 0}, 1: {'stuff': 8,...</td>\n      <td>27</td>\n      <td>27</td>\n      <td>0</td>\n      <td>1</td>\n      <td>0</td>\n      <td>27</td>\n    </tr>\n    <tr>\n      <th>28</th>\n      <td>{0: {'stuff': 9, 'tokens': 0}, 1: {'stuff': 8,...</td>\n      <td>28</td>\n      <td>28</td>\n      <td>0</td>\n      <td>1</td>\n      <td>0</td>\n      <td>28</td>\n    </tr>\n    <tr>\n      <th>29</th>\n      <td>{0: {'stuff': 9, 'tokens': 0}, 1: {'stuff': 8,...</td>\n      <td>29</td>\n      <td>29</td>\n      <td>0</td>\n      <td>1</td>\n      <td>0</td>\n      <td>29</td>\n    </tr>\n    <tr>\n      <th>30</th>\n      <td>{0: {'stuff': 9, 'tokens': 0}, 1: {'stuff': 8,...</td>\n      <td>30</td>\n      <td>30</td>\n      <td>0</td>\n      <td>1</td>\n      <td>0</td>\n      <td>30</td>\n    </tr>\n    <tr>\n      <th>31</th>\n      <td>{0: {'stuff': 9, 'tokens': 0}, 1: {'stuff': 8,...</td>\n      <td>31</td>\n      <td>31</td>\n      <td>0</td>\n      <td>1</td>\n      <td>0</td>\n      <td>31</td>\n    </tr>\n    <tr>\n      <th>32</th>\n      <td>{0: {'stuff': 9, 'tokens': 0}, 1: {'stuff': 8,...</td>\n      <td>32</td>\n      <td>32</td>\n      <td>0</td>\n      <td>1</td>\n      <td>0</td>\n      <td>32</td>\n    </tr>\n    <tr>\n      <th>33</th>\n      <td>{0: {'stuff': 9, 'tokens': 0}, 1: {'stuff': 8,...</td>\n      <td>33</td>\n      <td>33</td>\n      <td>0</td>\n      <td>1</td>\n      <td>0</td>\n      <td>33</td>\n    </tr>\n    <tr>\n      <th>34</th>\n      <td>{0: {'stuff': 9, 'tokens': 0}, 1: {'stuff': 8,...</td>\n      <td>34</td>\n      <td>34</td>\n      <td>0</td>\n      <td>1</td>\n      <td>0</td>\n      <td>34</td>\n    </tr>\n    <tr>\n      <th>35</th>\n      <td>{0: {'stuff': 9, 'tokens': 0}, 1: {'stuff': 8,...</td>\n      <td>35</td>\n      <td>35</td>\n      <td>0</td>\n      <td>1</td>\n      <td>0</td>\n      <td>35</td>\n    </tr>\n    <tr>\n      <th>36</th>\n      <td>{0: {'stuff': 9, 'tokens': 0}, 1: {'stuff': 8,...</td>\n      <td>36</td>\n      <td>36</td>\n      <td>0</td>\n      <td>1</td>\n      <td>0</td>\n      <td>36</td>\n    </tr>\n    <tr>\n      <th>37</th>\n      <td>{0: {'stuff': 9, 'tokens': 0}, 1: {'stuff': 8,...</td>\n      <td>37</td>\n      <td>37</td>\n      <td>0</td>\n      <td>1</td>\n      <td>0</td>\n      <td>37</td>\n    </tr>\n    <tr>\n      <th>38</th>\n      <td>{0: {'stuff': 9, 'tokens': 0}, 1: {'stuff': 8,...</td>\n      <td>38</td>\n      <td>38</td>\n      <td>0</td>\n      <td>1</td>\n      <td>0</td>\n      <td>38</td>\n    </tr>\n    <tr>\n      <th>39</th>\n      <td>{0: {'stuff': 9, 'tokens': 0}, 1: {'stuff': 8,...</td>\n      <td>39</td>\n      <td>39</td>\n      <td>0</td>\n      <td>1</td>\n      <td>0</td>\n      <td>39</td>\n    </tr>\n    <tr>\n      <th>40</th>\n      <td>{0: {'stuff': 9, 'tokens': 0}, 1: {'stuff': 8,...</td>\n      <td>40</td>\n      <td>40</td>\n      <td>0</td>\n      <td>1</td>\n      <td>0</td>\n      <td>40</td>\n    </tr>\n    <tr>\n      <th>41</th>\n      <td>{0: {'stuff': 9, 'tokens': 0}, 1: {'stuff': 8,...</td>\n      <td>41</td>\n      <td>41</td>\n      <td>0</td>\n      <td>1</td>\n      <td>0</td>\n      <td>41</td>\n    </tr>\n    <tr>\n      <th>42</th>\n      <td>{0: {'stuff': 9, 'tokens': 0}, 1: {'stuff': 8,...</td>\n      <td>42</td>\n      <td>42</td>\n      <td>0</td>\n      <td>1</td>\n      <td>0</td>\n      <td>42</td>\n    </tr>\n    <tr>\n      <th>43</th>\n      <td>{0: {'stuff': 9, 'tokens': 0}, 1: {'stuff': 8,...</td>\n      <td>43</td>\n      <td>43</td>\n      <td>0</td>\n      <td>1</td>\n      <td>0</td>\n      <td>43</td>\n    </tr>\n    <tr>\n      <th>44</th>\n      <td>{0: {'stuff': 9, 'tokens': 0}, 1: {'stuff': 8,...</td>\n      <td>44</td>\n      <td>44</td>\n      <td>0</td>\n      <td>1</td>\n      <td>0</td>\n      <td>44</td>\n    </tr>\n    <tr>\n      <th>45</th>\n      <td>{0: {'stuff': 9, 'tokens': 0}, 1: {'stuff': 8,...</td>\n      <td>45</td>\n      <td>45</td>\n      <td>0</td>\n      <td>1</td>\n      <td>0</td>\n      <td>45</td>\n    </tr>\n    <tr>\n      <th>46</th>\n      <td>{0: {'stuff': 9, 'tokens': 0}, 1: {'stuff': 8,...</td>\n      <td>46</td>\n      <td>46</td>\n      <td>0</td>\n      <td>1</td>\n      <td>0</td>\n      <td>46</td>\n    </tr>\n    <tr>\n      <th>47</th>\n      <td>{0: {'stuff': 9, 'tokens': 0}, 1: {'stuff': 8,...</td>\n      <td>47</td>\n      <td>47</td>\n      <td>0</td>\n      <td>1</td>\n      <td>0</td>\n      <td>47</td>\n    </tr>\n    <tr>\n      <th>48</th>\n      <td>{0: {'stuff': 9, 'tokens': 0}, 1: {'stuff': 8,...</td>\n      <td>48</td>\n      <td>48</td>\n      <td>0</td>\n      <td>1</td>\n      <td>0</td>\n      <td>48</td>\n    </tr>\n    <tr>\n      <th>49</th>\n      <td>{0: {'stuff': 9, 'tokens': 0}, 1: {'stuff': 8,...</td>\n      <td>49</td>\n      <td>49</td>\n      <td>0</td>\n      <td>1</td>\n      <td>0</td>\n      <td>49</td>\n    </tr>\n    <tr>\n      <th>50</th>\n      <td>{0: {'stuff': 9, 'tokens': 0}, 1: {'stuff': 8,...</td>\n      <td>50</td>\n      <td>50</td>\n      <td>0</td>\n      <td>1</td>\n      <td>1</td>\n      <td>50</td>\n    </tr>\n  </tbody>\n</table>\n</div>"
     },
     "metadata": {},
     "execution_count": 18
    }
   ],
   "source": [
    "simulation_result"
   ]
  }
 ],
 "metadata": {
  "kernelspec": {
   "display_name": "Python 3",
   "language": "python",
   "name": "python3"
  },
  "language_info": {
   "codemirror_mode": {
    "name": "ipython",
    "version": 3
   },
   "file_extension": ".py",
   "mimetype": "text/x-python",
   "name": "python",
   "nbconvert_exporter": "python",
   "pygments_lexer": "ipython3",
   "version": "3.8.2-final"
  }
 },
 "nbformat": 4,
 "nbformat_minor": 4
}