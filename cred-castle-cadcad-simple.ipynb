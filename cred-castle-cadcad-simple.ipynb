{
 "cells": [
  {
   "cell_type": "code",
   "execution_count": 1,
   "metadata": {},
   "outputs": [],
   "source": [
    "import random # psuedo randomness generator\n",
    "import numpy as np # import numerical python\n",
    "import pandas as pd\n",
    "import matplotlib\n",
    "import matplotlib.pyplot as plt\n",
    "from cadCAD.configuration import Configuration\n",
    "\n",
    "#imported some addition utilities to help with configuration set-up\n",
    "from cadCAD.configuration.utils import config_sim\n",
    "from cadCAD.configuration import append_configs\n",
    "#from cadCAD import configs"
   ]
  },
  {
   "cell_type": "code",
   "execution_count": 2,
   "metadata": {},
   "outputs": [],
   "source": [
    "# What does this do?\n",
    "np.set_printoptions(formatter={'float': lambda x: \"{0:0.2f}\".format(x)})\n"
   ]
  },
  {
   "cell_type": "code",
   "execution_count": 3,
   "metadata": {},
   "outputs": [],
   "source": [
    "# Params\n",
    "\n",
    "initial_conditions = {\n",
    "    'village_folk': {i:{'stuff': np.random.randint(1,10), 'tokens':0} for i in range(16)}, # initialize village folk and their stuff and cred_castle balances\n",
    "    'castle': 0, # the cred castle\n",
    "    'castle_token_supply': 0, # the amount of castle tokens\n",
    "}"
   ]
  },
  {
   "cell_type": "code",
   "execution_count": 4,
   "metadata": {},
   "outputs": [],
   "source": [
    "# Everyone in CredLand is crazy \n",
    "def villagers_be_crazy(params, step, sL, s):\n",
    "    n = len(s['village_folk']) #get the length of the list of villager indices\n",
    "    #print('go crazy')\n",
    "    index = np.random.randint(0, n) #pick a random integer from (0,.., n-1)\n",
    "    effort = 2**np.random.randint(0,4)\n",
    "#     p = np.random.randint(55, 60)\n",
    "#     if (p < 50):\n",
    "#         #print(\"if 1\")\n",
    "#         action = 'buy_castle_token'\n",
    "#         #i need to buy FROM someone\n",
    "#         #select the set of village_folk who have tokens\n",
    "#         holders = [i for i in range(n) if s['village_folk'][i]['tokens']>0]\n",
    "#         if len(holders)>0:\n",
    "#             friend = np.random.choice(holders)\n",
    "#         else:\n",
    "#             action = None\n",
    "#             friend = None\n",
    "        \n",
    "\n",
    "    #you cannot sell tokens you don't have\n",
    "#     elif (p > 80)&(s['village_folk'][index]['tokens']>0):\n",
    "#         #print(\"if 2\")\n",
    "#         action = 'sell_castle_token'\n",
    "#         #i need to sell TO someone\n",
    "#         #select the set of village_folk who have stuff\n",
    "#         stuff_havers = [i for i in range(n) if s['village_folk'][i]['stuff']>0]\n",
    "#         friend = np.random.choice(stuff_havers)\n",
    "    \n",
    "        #print(\"if 3\")\n",
    "    \n",
    "    #print(\"Carry out %s for villager %s\" % (action, index))\n",
    "    #print(s['village_folk'][index])\n",
    "    return ({'villager': index, 'amount':effort})\n",
    "\n",
    "#    return (x, y)"
   ]
  },
  {
   "cell_type": "code",
   "execution_count": 5,
   "metadata": {},
   "outputs": [],
   "source": [
    "def diminishing_returns_rule(amount_of_contribution, force_int=True):\n",
    "    \n",
    "    x = amount_of_contribution\n",
    "    if x<=0:\n",
    "        y = 0\n",
    "    else:\n",
    "        y = 1+np.log2(x)\n",
    "    \n",
    "    if force_int:\n",
    "        amount_of_tokens = int(y)\n",
    "    else:\n",
    "        amount_of_tokens = y\n",
    "    \n",
    "    return amount_of_tokens"
   ]
  },
  {
   "cell_type": "code",
   "execution_count": 6,
   "metadata": {},
   "outputs": [
    {
     "data": {
      "text/plain": [
       "[<matplotlib.lines.Line2D at 0x11ef4a668>,\n",
       " <matplotlib.lines.Line2D at 0x11ef4a898>]"
      ]
     },
     "execution_count": 6,
     "metadata": {},
     "output_type": "execute_result"
    },
    {
     "data": {
      "image/png": "[encoded data removed]",
      "text/plain": [
       "<Figure size 432x288 with 1 Axes>"
      ]
     },
     "metadata": {
      "needs_background": "light"
     },
     "output_type": "display_data"
    }
   ],
   "source": [
    "x = range(250)\n",
    "y1 = [diminishing_returns_rule(v) for v in x]\n",
    "y2 = [diminishing_returns_rule(v, force_int=False) for v in x]\n",
    "\n",
    "plt.plot(x,y1,x,y2)"
   ]
  },
  {
   "cell_type": "code",
   "execution_count": 7,
   "metadata": {},
   "outputs": [
    {
     "data": {
      "text/plain": [
       "[<matplotlib.lines.Line2D at 0x11f05a6a0>]"
      ]
     },
     "execution_count": 7,
     "metadata": {},
     "output_type": "execute_result"
    },
    {
     "data": {
      "image/png": "[encoded data removed]",
      "text/plain": [
       "<Figure size 432x288 with 1 Axes>"
      ]
     },
     "metadata": {
      "needs_background": "light"
     },
     "output_type": "display_data"
    }
   ],
   "source": [
    "err = np.array(y2)-np.array(y1)\n",
    "plt.plot(x,err)"
   ]
  },
  {
   "cell_type": "code",
   "execution_count": 8,
   "metadata": {},
   "outputs": [],
   "source": [
    "# How villagers build the castle \n",
    "def build_castle(params, step, sL, s, _input):\n",
    "    amount = _input['amount']\n",
    "    #print(action)\n",
    "    y = 'castle' #this function updates the castle state\n",
    "    x = s[y]\n",
    "    x += amount\n",
    "    #print(y)\n",
    "    #print(x)\n",
    "    return (y, x)"
   ]
  },
  {
   "cell_type": "code",
   "execution_count": 9,
   "metadata": {},
   "outputs": [],
   "source": [
    "def account_castle_tokens(params, step, sL, s, _input):\n",
    "    amount = _input['amount']\n",
    "    #print(action)\n",
    "    y = 'castle_token_supply' #this function updates the castle state\n",
    "    x = s[y]\n",
    "    \n",
    "    #let's make the castle token allocation diminishing returns on effort (amount contributed)\n",
    "    \n",
    "    x += diminishing_returns_rule(amount)\n",
    "    #print(y)\n",
    "    #print(x)\n",
    "    return (y, x)"
   ]
  },
  {
   "cell_type": "code",
   "execution_count": 10,
   "metadata": {},
   "outputs": [],
   "source": [
    "# How villagers build the castle \n",
    "def royal_decree(params, step, sL, s, _input):\n",
    "    amount = _input['amount']\n",
    "    #print(action)\n",
    "    y = 'village_folk' #this function updates the castle state\n",
    "    x = s[y]\n",
    "    #print(y)\n",
    "    #print(type(x))\n",
    "    #print(x)\n",
    "    villager_index = _input['villager']\n",
    "    x[villager_index]['tokens'] = x[villager_index]['tokens']+diminishing_returns_rule(amount)\n",
    "    #print(type(x))\n",
    "    #print(x)\n",
    "    \n",
    "    return (y, x)"
   ]
  },
  {
   "cell_type": "code",
   "execution_count": 11,
   "metadata": {},
   "outputs": [],
   "source": [
    "# # How villagers sell castle tokens\n",
    "# def sell_castle_tokens(params, step, sL, s, _input):\n",
    "#     action = _input['action']\n",
    "#     #print('sell_castle_token')\n",
    "#     y = 'village_folk'\n",
    "#     x = s[y]\n",
    "    \n",
    "#     if action == 'sell_castle_token':\n",
    "#         #villager_index = _input['person'] #you used the key \"villager\" not 'person' \n",
    "#         villager_index = _input['villager']\n",
    "#         friend_index = _input['friend']\n",
    "#         #token accounting\n",
    "#         x[villager_index][1] -= 1 \n",
    "#         x[friend_index][1] += 1 #typo index <-- indes\n",
    "#         #stuff accounting\n",
    "#         x[villager_index][0] += 1 \n",
    "#         x[friend_index][0] -= 1 #typo index <-- indes\n",
    "\n",
    "#     return(y, x)"
   ]
  },
  {
   "cell_type": "code",
   "execution_count": 12,
   "metadata": {},
   "outputs": [],
   "source": [
    "# # How villagers buy castle tokens \n",
    "# def buy_castle_tokens(params, step, sL, s, _input):\n",
    "#     action = _input['action']\n",
    "#     #print('buy_castle_token')\n",
    "#     y = 'village_folk'\n",
    "#     x = s[y]\n",
    "\n",
    "#     if action == 'buy_castle_token':\n",
    "#         #villager_index = _input['person'] #you used the key \"villager\" not 'person' \n",
    "#         villager_index = _input['villager']\n",
    "#         friend_index = _input['friend']\n",
    "#         #token accounting\n",
    "#         x[villager_index][1] += 1 \n",
    "#         x[friend_index][1] -= 1 #typo index <-- indes\n",
    "#         #stuff accounting\n",
    "#         x[villager_index][0] -= 1 \n",
    "#         x[friend_index][0] += 1 #typo index <-- indes\n",
    "    \n",
    "#     return(y, x)\n",
    "\n",
    "# #note if you are copy pasting code, it probably means you could collapse it into one function\n",
    "# #eg, buy and sell here are the same thing but with a negative number for sell"
   ]
  },
  {
   "cell_type": "code",
   "execution_count": 13,
   "metadata": {},
   "outputs": [],
   "source": [
    "# Everyone in CredLand is crazy \n",
    "partial_state_update_blocks = [\n",
    "    { \n",
    "        'policies': {\n",
    "            'villagers_be_crazy': villagers_be_crazy\n",
    "        },\n",
    "        'variables': {\n",
    "            'castle': build_castle,\n",
    "            'village_folk': royal_decree,\n",
    "            'castle_token_supply': account_castle_tokens\n",
    " #           'buy_castle_tokens': buy_castle_tokens,\n",
    " #           'sell_castle_tokens': sell_castle_tokens\n",
    "        }\n",
    "    }\n",
    "]"
   ]
  },
  {
   "cell_type": "code",
   "execution_count": 14,
   "metadata": {},
   "outputs": [
    {
     "data": {
      "text/plain": [
       "1"
      ]
     },
     "execution_count": 14,
     "metadata": {},
     "output_type": "execute_result"
    }
   ],
   "source": [
    "len(partial_state_update_blocks)"
   ]
  },
  {
   "cell_type": "code",
   "execution_count": 15,
   "metadata": {},
   "outputs": [],
   "source": [
    "simulation_parameters = {\n",
    "    'T': range(250),\n",
    "    'N': 1,\n",
    "    'M': {}\n",
    "}"
   ]
  },
  {
   "cell_type": "code",
   "execution_count": 16,
   "metadata": {},
   "outputs": [],
   "source": [
    "from cadCAD.engine import ExecutionMode, ExecutionContext\n",
    "exec_mode = ExecutionMode()\n",
    "local_mode_ctx = ExecutionContext(context=exec_mode.local_mode)"
   ]
  },
  {
   "cell_type": "code",
   "execution_count": 17,
   "metadata": {},
   "outputs": [],
   "source": [
    "from cadCAD.engine import Executor\n",
    "from cadCAD import configs\n",
    "simulation = Executor(exec_context=local_mode_ctx, configs=configs)"
   ]
  },
  {
   "cell_type": "code",
   "execution_count": 18,
   "metadata": {},
   "outputs": [],
   "source": [
    "append_configs(\n",
    "    initial_state=initial_conditions, #dict containing variable names and initial values\n",
    "    partial_state_update_blocks=partial_state_update_blocks, #dict containing state update functions\n",
    "    sim_configs=simulation_parameters #dict containing simulation parameters\n",
    ")"
   ]
  },
  {
   "cell_type": "code",
   "execution_count": 19,
   "metadata": {},
   "outputs": [
    {
     "name": "stdout",
     "output_type": "stream",
     "text": [
      "Configurations Length: 1\n",
      "Execution Method: local_simulations\n",
      "Execution Mode: single_threaded\n"
     ]
    }
   ],
   "source": [
    "#import pandas as pd\n",
    "raw_system_events, tensor_field, sessions = simulation.execute()\n",
    "\n",
    "# Simulation Result Types:\n",
    "# raw_system_events: List[dict] \n",
    "# tensor_field: pd.DataFrame\n",
    "\n",
    "# Result System Events DataFrame\n",
    "simulation_result = pd.DataFrame(raw_system_events)"
   ]
  },
  {
   "cell_type": "code",
   "execution_count": 20,
   "metadata": {},
   "outputs": [
    {
     "data": {
      "text/html": [
       "<div>\n",
       "<style scoped>\n",
       "    .dataframe tbody tr th:only-of-type {\n",
       "        vertical-align: middle;\n",
       "    }\n",
       "\n",
       "    .dataframe tbody tr th {\n",
       "        vertical-align: top;\n",
       "    }\n",
       "\n",
       "    .dataframe thead th {\n",
       "        text-align: right;\n",
       "    }\n",
       "</style>\n",
       "<table border=\"1\" class=\"dataframe\">\n",
       "  <thead>\n",
       "    <tr style=\"text-align: right;\">\n",
       "      <th></th>\n",
       "      <th>castle</th>\n",
       "      <th>castle_token_supply</th>\n",
       "      <th>run</th>\n",
       "      <th>simulation</th>\n",
       "      <th>substep</th>\n",
       "      <th>timestep</th>\n",
       "      <th>village_folk</th>\n",
       "    </tr>\n",
       "  </thead>\n",
       "  <tbody>\n",
       "    <tr>\n",
       "      <th>0</th>\n",
       "      <td>0</td>\n",
       "      <td>0.0</td>\n",
       "      <td>1</td>\n",
       "      <td>0</td>\n",
       "      <td>0</td>\n",
       "      <td>0</td>\n",
       "      <td>{0: {'stuff': 8, 'tokens': 0}, 1: {'stuff': 9,...</td>\n",
       "    </tr>\n",
       "    <tr>\n",
       "      <th>1</th>\n",
       "      <td>2</td>\n",
       "      <td>2.0</td>\n",
       "      <td>1</td>\n",
       "      <td>0</td>\n",
       "      <td>0</td>\n",
       "      <td>1</td>\n",
       "      <td>{0: {'stuff': 8, 'tokens': 0}, 1: {'stuff': 9,...</td>\n",
       "    </tr>\n",
       "    <tr>\n",
       "      <th>2</th>\n",
       "      <td>3</td>\n",
       "      <td>3.0</td>\n",
       "      <td>1</td>\n",
       "      <td>0</td>\n",
       "      <td>0</td>\n",
       "      <td>2</td>\n",
       "      <td>{0: {'stuff': 8, 'tokens': 0}, 1: {'stuff': 9,...</td>\n",
       "    </tr>\n",
       "    <tr>\n",
       "      <th>3</th>\n",
       "      <td>4</td>\n",
       "      <td>4.0</td>\n",
       "      <td>1</td>\n",
       "      <td>0</td>\n",
       "      <td>0</td>\n",
       "      <td>3</td>\n",
       "      <td>{0: {'stuff': 8, 'tokens': 0}, 1: {'stuff': 9,...</td>\n",
       "    </tr>\n",
       "    <tr>\n",
       "      <th>4</th>\n",
       "      <td>8</td>\n",
       "      <td>7.0</td>\n",
       "      <td>1</td>\n",
       "      <td>0</td>\n",
       "      <td>0</td>\n",
       "      <td>4</td>\n",
       "      <td>{0: {'stuff': 8, 'tokens': 0}, 1: {'stuff': 9,...</td>\n",
       "    </tr>\n",
       "  </tbody>\n",
       "</table>\n",
       "</div>"
      ],
      "text/plain": [
       "   castle  castle_token_supply  run  simulation  substep  timestep  \\\n",
       "0       0                  0.0    1           0        0         0   \n",
       "1       2                  2.0    1           0        0         1   \n",
       "2       3                  3.0    1           0        0         2   \n",
       "3       4                  4.0    1           0        0         3   \n",
       "4       8                  7.0    1           0        0         4   \n",
       "\n",
       "                                        village_folk  \n",
       "0  {0: {'stuff': 8, 'tokens': 0}, 1: {'stuff': 9,...  \n",
       "1  {0: {'stuff': 8, 'tokens': 0}, 1: {'stuff': 9,...  \n",
       "2  {0: {'stuff': 8, 'tokens': 0}, 1: {'stuff': 9,...  \n",
       "3  {0: {'stuff': 8, 'tokens': 0}, 1: {'stuff': 9,...  \n",
       "4  {0: {'stuff': 8, 'tokens': 0}, 1: {'stuff': 9,...  "
      ]
     },
     "execution_count": 20,
     "metadata": {},
     "output_type": "execute_result"
    }
   ],
   "source": [
    "simulation_result.head()"
   ]
  },
  {
   "cell_type": "code",
   "execution_count": 21,
   "metadata": {},
   "outputs": [],
   "source": [
    "def get_stuff(villager, data):\n",
    "    record = data[villager]\n",
    "    return record['stuff']\n",
    "\n",
    "def get_tokens(villager, data):\n",
    "    record = data[villager]\n",
    "    return record['tokens']"
   ]
  },
  {
   "cell_type": "code",
   "execution_count": 22,
   "metadata": {},
   "outputs": [],
   "source": [
    "df = simulation_result"
   ]
  },
  {
   "cell_type": "code",
   "execution_count": 23,
   "metadata": {},
   "outputs": [],
   "source": [
    "keys = df.village_folk[0].keys()"
   ]
  },
  {
   "cell_type": "code",
   "execution_count": 24,
   "metadata": {},
   "outputs": [],
   "source": [
    "stuff_cols = ['stuff'+str(k) for k in keys]\n",
    "token_cols = ['tokens'+str(k) for k in keys]"
   ]
  },
  {
   "cell_type": "code",
   "execution_count": 25,
   "metadata": {},
   "outputs": [],
   "source": [
    "for k in keys:\n",
    "    df['stuff'+str(k)]= df.village_folk.apply(lambda x: get_stuff(k,x))\n",
    "    df['tokens'+str(k)]= df.village_folk.apply(lambda x: get_tokens(k,x))\n",
    "    "
   ]
  },
  {
   "cell_type": "code",
   "execution_count": 26,
   "metadata": {},
   "outputs": [
    {
     "data": {
      "text/plain": [
       "<matplotlib.axes._subplots.AxesSubplot at 0x11f3ecda0>"
      ]
     },
     "execution_count": 26,
     "metadata": {},
     "output_type": "execute_result"
    },
    {
     "data": {
      "image/png": "[encoded data removed]",
      "text/plain": [
       "<Figure size 432x288 with 1 Axes>"
      ]
     },
     "metadata": {
      "needs_background": "light"
     },
     "output_type": "display_data"
    }
   ],
   "source": [
    "df[token_cols].plot(legend = False)"
   ]
  },
  {
   "cell_type": "code",
   "execution_count": 27,
   "metadata": {},
   "outputs": [
    {
     "data": {
      "text/plain": [
       "<matplotlib.axes._subplots.AxesSubplot at 0x11f46efd0>"
      ]
     },
     "execution_count": 27,
     "metadata": {},
     "output_type": "execute_result"
    },
    {
     "data": {
      "image/png": "[encoded data removed]",
      "text/plain": [
       "<Figure size 432x288 with 1 Axes>"
      ]
     },
     "metadata": {
      "needs_background": "light"
     },
     "output_type": "display_data"
    }
   ],
   "source": [
    "df[['castle','castle_token_supply']].plot()"
   ]
  },
  {
   "cell_type": "code",
   "execution_count": 28,
   "metadata": {},
   "outputs": [
    {
     "data": {
      "image/png": "[encoded data removed]",
      "text/plain": [
       "<Figure size 432x288 with 1 Axes>"
      ]
     },
     "metadata": {
      "needs_background": "light"
     },
     "output_type": "display_data"
    }
   ],
   "source": [
    "T = len(df[token_cols])\n",
    "\n",
    "for t in range(T):\n",
    "    if np.mod(t,50)==0:\n",
    "        df[token_cols].iloc[t].hist(alpha=.5, bins=range(60))"
   ]
  },
  {
   "cell_type": "code",
   "execution_count": null,
   "metadata": {},
   "outputs": [],
   "source": []
  }
 ],
 "metadata": {
  "kernelspec": {
   "display_name": "Python 3",
   "language": "python",
   "name": "python3"
  },
  "language_info": {
   "codemirror_mode": {
    "name": "ipython",
    "version": 3
   },
   "file_extension": ".py",
   "mimetype": "text/x-python",
   "name": "python",
   "nbconvert_exporter": "python",
   "pygments_lexer": "ipython3",
   "version": "3.6.8"
  }
 },
 "nbformat": 4,
 "nbformat_minor": 4
}
