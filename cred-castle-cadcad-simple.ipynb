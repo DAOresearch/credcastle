{
 "cells": [
  {
   "cell_type": "code",
   "execution_count": 1,
   "metadata": {},
   "outputs": [],
   "source": [
    "import random # psuedo randomness generator\n",
    "import numpy as np # import numerical python\n",
    "import pandas as pd\n",
    "import matplotlib\n",
    "import matplotlib.pyplot as plt\n",
    "from cadCAD.configuration import Configuration\n",
    "from cadCAD.engine import ExecutionMode, ExecutionContext, Executor\n",
    "\n",
    "#imported some addition utilities to help with configuration set-up\n",
    "from cadCAD.configuration.utils import config_sim\n",
    "from cadCAD.configuration import append_configs\n",
    "from cadCAD import configs"
   ]
  },
  {
   "cell_type": "code",
   "execution_count": 2,
   "metadata": {},
   "outputs": [],
   "source": [
    "# What does this do?\n",
    "np.set_printoptions(formatter={'float': lambda x: \"{0:0.2f}\".format(x)})\n"
   ]
  },
  {
   "cell_type": "code",
   "execution_count": 3,
   "metadata": {},
   "outputs": [],
   "source": [
    "# Params\n",
    "\n",
    "initial_conditions = {\n",
    "    'village_folk': {i:{'stuff': np.random.randint(1,10), 'tokens':0} for i in range(100)}, # initialize village folk and their stuff and cred_castle balances\n",
    "    'castle': 0, # the cred castle\n",
    "    'castle_token_supply': 0, # the amount of castle tokens\n",
    "}"
   ]
  },
  {
   "cell_type": "code",
   "execution_count": 4,
   "metadata": {},
   "outputs": [],
   "source": [
    "# Everyone in CredLand is crazy \n",
    "def villagers_be_crazy(params, step, sL, s):\n",
    "    n = len(s['village_folk']) #get the length of the list of villager indices\n",
    "    #print('go crazy')\n",
    "    index = np.random.randint(0, n) #pick a random integer from (0,.., n-1)\n",
    "    p = np.random.randint(55, 60)\n",
    "    if (p < 50):\n",
    "        #print(\"if 1\")\n",
    "        action = 'buy_castle_token'\n",
    "        #i need to buy FROM someone\n",
    "        #select the set of village_folk who have tokens\n",
    "        holders = [i for i in range(n) if s['village_folk'][i]['tokens']>0]\n",
    "        if len(holders)>0:\n",
    "            friend = np.random.choice(holders)\n",
    "        else:\n",
    "            action = None\n",
    "            friend = None\n",
    "        \n",
    "\n",
    "    #you cannot sell tokens you don't have\n",
    "    elif (p > 80)&(s['village_folk'][index]['tokens']>0):\n",
    "        #print(\"if 2\")\n",
    "        action = 'sell_castle_token'\n",
    "        #i need to sell TO someone\n",
    "        #select the set of village_folk who have stuff\n",
    "        stuff_havers = [i for i in range(n) if s['village_folk'][i]['stuff']>0]\n",
    "        friend = np.random.choice(stuff_havers)\n",
    "    \n",
    "    elif (p > 50):\n",
    "        #print(\"if 3\")\n",
    "        action = 'contribute'\n",
    "        friend = None\n",
    "    \n",
    "    #print(\"Carry out %s for villager %s\" % (action, index))\n",
    "    #print(s['village_folk'][index])\n",
    "    return ({'action': action, 'villager': index, 'friend':friend})\n",
    "\n",
    "#    return (x, y)"
   ]
  },
  {
   "cell_type": "code",
   "execution_count": 5,
   "metadata": {},
   "outputs": [],
   "source": [
    "# How villagers build the castle \n",
    "def build_castle(params, step, sL, s, _input):\n",
    "    action = _input['action']\n",
    "    #print(action)\n",
    "    y = 'castle' #this function updates the castle state\n",
    "    x = s[y]\n",
    "    if action == 'contribute':\n",
    "        x += 1\n",
    "    #print(y)\n",
    "    #print(x)\n",
    "    return (y, x)"
   ]
  },
  {
   "cell_type": "code",
   "execution_count": 6,
   "metadata": {},
   "outputs": [],
   "source": [
    "def account_castle_tokens(params, step, sL, s, _input):\n",
    "    action = _input['action']\n",
    "    #print(action)\n",
    "    y = 'castle_token_supply' #this function updates the castle state\n",
    "    x = s[y]\n",
    "    if action == 'contribute':\n",
    "        x += 1\n",
    "    #print(y)\n",
    "    #print(x)\n",
    "    return (y, x)"
   ]
  },
  {
   "cell_type": "code",
   "execution_count": 7,
   "metadata": {},
   "outputs": [],
   "source": [
    "# How villagers build the castle \n",
    "def royal_decree(params, step, sL, s, _input):\n",
    "    action = _input['action']\n",
    "    #print(action)\n",
    "    y = 'village_folk' #this function updates the castle state\n",
    "    x = s[y]\n",
    "    #print(y)\n",
    "    #print(type(x))\n",
    "    #print(x)\n",
    "    villager_index = _input['villager']\n",
    "    if action == 'contribute':\n",
    "        x[villager_index]['tokens'] = x[villager_index]['tokens'] +1\n",
    "    #print(type(x))\n",
    "    #print(x)\n",
    "    \n",
    "    return (y, x)"
   ]
  },
  {
   "cell_type": "code",
   "execution_count": 8,
   "metadata": {},
   "outputs": [],
   "source": [
    "# How villagers sell castle tokens\n",
    "def sell_castle_tokens(params, step, sL, s, _input):\n",
    "    action = _input['action']\n",
    "    #print('sell_castle_token')\n",
    "    y = 'village_folk'\n",
    "    x = s[y]\n",
    "    \n",
    "    if action == 'sell_castle_token':\n",
    "        #villager_index = _input['person'] #you used the key \"villager\" not 'person' \n",
    "        villager_index = _input['villager']\n",
    "        friend_index = _input['friend']\n",
    "        #token accounting\n",
    "        x[villager_index][1] -= 1 \n",
    "        x[friend_index][1] += 1 #typo index <-- indes\n",
    "        #stuff accounting\n",
    "        x[villager_index][0] += 1 \n",
    "        x[friend_index][0] -= 1 #typo index <-- indes\n",
    "\n",
    "    return(y, x)"
   ]
  },
  {
   "cell_type": "code",
   "execution_count": 9,
   "metadata": {},
   "outputs": [],
   "source": [
    "# How villagers buy castle tokens \n",
    "def buy_castle_tokens(params, step, sL, s, _input):\n",
    "    action = _input['action']\n",
    "    #print('buy_castle_token')\n",
    "    y = 'village_folk'\n",
    "    x = s[y]\n",
    "\n",
    "    if action == 'buy_castle_token':\n",
    "        #villager_index = _input['person'] #you used the key \"villager\" not 'person' \n",
    "        villager_index = _input['villager']\n",
    "        friend_index = _input['friend']\n",
    "        #token accounting\n",
    "        x[villager_index][1] += 1 \n",
    "        x[friend_index][1] -= 1 #typo index <-- indes\n",
    "        #stuff accounting\n",
    "        x[villager_index][0] -= 1 \n",
    "        x[friend_index][0] += 1 #typo index <-- indes\n",
    "    \n",
    "    return(y, x)\n",
    "\n",
    "#note if you are copy pasting code, it probably means you could collapse it into one function\n",
    "#eg, buy and sell here are the same thing but with a negative number for sell"
   ]
  },
  {
   "cell_type": "code",
   "execution_count": 10,
   "metadata": {},
   "outputs": [],
   "source": [
    "# Everyone in CredLand is crazy \n",
    "partial_state_update_blocks = [\n",
    "    { \n",
    "        'policies': {\n",
    "            'villagers_be_crazy': villagers_be_crazy\n",
    "        },\n",
    "        'variables': {\n",
    "            'castle': build_castle,\n",
    "            'village_folk': royal_decree,\n",
    "            'castle_token_supply': account_castle_tokens\n",
    " #           'buy_castle_tokens': buy_castle_tokens,\n",
    " #           'sell_castle_tokens': sell_castle_tokens\n",
    "        }\n",
    "    }\n",
    "]"
   ]
  },
  {
   "cell_type": "code",
   "execution_count": 11,
   "metadata": {},
   "outputs": [
    {
     "data": {
      "text/plain": [
       "1"
      ]
     },
     "execution_count": 11,
     "metadata": {},
     "output_type": "execute_result"
    }
   ],
   "source": [
    "len(partial_state_update_blocks)"
   ]
  },
  {
   "cell_type": "code",
   "execution_count": 12,
   "metadata": {},
   "outputs": [],
   "source": [
    "simulation_parameters = {\n",
    "    'T': range(50),\n",
    "    'N': 1,\n",
    "    'M': {}\n",
    "}"
   ]
  },
  {
   "cell_type": "code",
   "execution_count": 13,
   "metadata": {},
   "outputs": [],
   "source": [
    "# i replaced this with another cell which uses \"append_configs\" utility instead \n",
    "#---\n",
    "# config = Configuration(initial_state=initial_conditions,\n",
    "#                        partial_state_update_blocks=partial_state_update_blocks,\n",
    "#                        sim_config=simulation_parameters\n",
    "#                       )\n"
   ]
  },
  {
   "cell_type": "code",
   "execution_count": 14,
   "metadata": {},
   "outputs": [
    {
     "name": "stdout",
     "output_type": "stream",
     "text": [
      "[{'T': range(0, 50), 'N': 1, 'M': {}}]\n"
     ]
    }
   ],
   "source": [
    "append_configs(\n",
    "    initial_state=initial_conditions, #dict containing variable names and initial values\n",
    "    partial_state_update_blocks=partial_state_update_blocks, #dict containing state update functions\n",
    "    sim_configs=simulation_parameters #dict containing simulation parameters\n",
    ")"
   ]
  },
  {
   "cell_type": "code",
   "execution_count": 15,
   "metadata": {},
   "outputs": [
    {
     "name": "stdout",
     "output_type": "stream",
     "text": [
      "\n",
      "                            __________   ____ \n",
      "          ________ __ _____/ ____/   |  / __ \\\n",
      "         / ___/ __` / __  / /   / /| | / / / /\n",
      "        / /__/ /_/ / /_/ / /___/ ___ |/ /_/ / \n",
      "        \\___/\\__,_/\\__,_/\\____/_/  |_/_____/  \n",
      "        by BlockScience\n",
      "        \n",
      "Execution Mode: single_proc: [<cadCAD.configuration.Configuration object at 0x11edf6668>]\n",
      "Configurations: [<cadCAD.configuration.Configuration object at 0x11edf6668>]\n"
     ]
    }
   ],
   "source": [
    "# What does this do and why doesn't it work?\n",
    "# this provides instructions to your computer on how to run your model\n",
    "# since nothing actually gets executed until this cell, errors the model above\n",
    "# trigger errors when you run this cell\n",
    "exec_mode = ExecutionMode()\n",
    "exec_context = ExecutionContext(exec_mode.single_proc)\n",
    "executor = Executor(exec_context, configs)\n",
    "raw_result, tensor = executor.execute()"
   ]
  },
  {
   "cell_type": "code",
   "execution_count": 16,
   "metadata": {},
   "outputs": [],
   "source": [
    "import pandas as pd\n",
    "df = pd.DataFrame(raw_result)"
   ]
  },
  {
   "cell_type": "code",
   "execution_count": 17,
   "metadata": {},
   "outputs": [
    {
     "data": {
      "text/html": [
       "<div>\n",
       "<style scoped>\n",
       "    .dataframe tbody tr th:only-of-type {\n",
       "        vertical-align: middle;\n",
       "    }\n",
       "\n",
       "    .dataframe tbody tr th {\n",
       "        vertical-align: top;\n",
       "    }\n",
       "\n",
       "    .dataframe thead th {\n",
       "        text-align: right;\n",
       "    }\n",
       "</style>\n",
       "<table border=\"1\" class=\"dataframe\">\n",
       "  <thead>\n",
       "    <tr style=\"text-align: right;\">\n",
       "      <th></th>\n",
       "      <th>castle</th>\n",
       "      <th>castle_token_supply</th>\n",
       "      <th>run</th>\n",
       "      <th>substep</th>\n",
       "      <th>timestep</th>\n",
       "      <th>village_folk</th>\n",
       "    </tr>\n",
       "  </thead>\n",
       "  <tbody>\n",
       "    <tr>\n",
       "      <th>0</th>\n",
       "      <td>0</td>\n",
       "      <td>0</td>\n",
       "      <td>1</td>\n",
       "      <td>0</td>\n",
       "      <td>0</td>\n",
       "      <td>{0: {'stuff': 5, 'tokens': 0}, 1: {'stuff': 5,...</td>\n",
       "    </tr>\n",
       "    <tr>\n",
       "      <th>1</th>\n",
       "      <td>1</td>\n",
       "      <td>1</td>\n",
       "      <td>1</td>\n",
       "      <td>1</td>\n",
       "      <td>1</td>\n",
       "      <td>{0: {'stuff': 5, 'tokens': 0}, 1: {'stuff': 5,...</td>\n",
       "    </tr>\n",
       "    <tr>\n",
       "      <th>2</th>\n",
       "      <td>2</td>\n",
       "      <td>2</td>\n",
       "      <td>1</td>\n",
       "      <td>1</td>\n",
       "      <td>2</td>\n",
       "      <td>{0: {'stuff': 5, 'tokens': 0}, 1: {'stuff': 5,...</td>\n",
       "    </tr>\n",
       "    <tr>\n",
       "      <th>3</th>\n",
       "      <td>3</td>\n",
       "      <td>3</td>\n",
       "      <td>1</td>\n",
       "      <td>1</td>\n",
       "      <td>3</td>\n",
       "      <td>{0: {'stuff': 5, 'tokens': 0}, 1: {'stuff': 5,...</td>\n",
       "    </tr>\n",
       "    <tr>\n",
       "      <th>4</th>\n",
       "      <td>4</td>\n",
       "      <td>4</td>\n",
       "      <td>1</td>\n",
       "      <td>1</td>\n",
       "      <td>4</td>\n",
       "      <td>{0: {'stuff': 5, 'tokens': 0}, 1: {'stuff': 5,...</td>\n",
       "    </tr>\n",
       "  </tbody>\n",
       "</table>\n",
       "</div>"
      ],
      "text/plain": [
       "   castle  castle_token_supply  run  substep  timestep  \\\n",
       "0       0                    0    1        0         0   \n",
       "1       1                    1    1        1         1   \n",
       "2       2                    2    1        1         2   \n",
       "3       3                    3    1        1         3   \n",
       "4       4                    4    1        1         4   \n",
       "\n",
       "                                        village_folk  \n",
       "0  {0: {'stuff': 5, 'tokens': 0}, 1: {'stuff': 5,...  \n",
       "1  {0: {'stuff': 5, 'tokens': 0}, 1: {'stuff': 5,...  \n",
       "2  {0: {'stuff': 5, 'tokens': 0}, 1: {'stuff': 5,...  \n",
       "3  {0: {'stuff': 5, 'tokens': 0}, 1: {'stuff': 5,...  \n",
       "4  {0: {'stuff': 5, 'tokens': 0}, 1: {'stuff': 5,...  "
      ]
     },
     "execution_count": 17,
     "metadata": {},
     "output_type": "execute_result"
    }
   ],
   "source": [
    "df.head()"
   ]
  },
  {
   "cell_type": "code",
   "execution_count": null,
   "metadata": {},
   "outputs": [],
   "source": []
  }
 ],
 "metadata": {
  "kernelspec": {
   "display_name": "Python 3",
   "language": "python",
   "name": "python3"
  },
  "language_info": {
   "codemirror_mode": {
    "name": "ipython",
    "version": 3
   },
   "file_extension": ".py",
   "mimetype": "text/x-python",
   "name": "python",
   "nbconvert_exporter": "python",
   "pygments_lexer": "ipython3",
   "version": "3.6.8"
  }
 },
 "nbformat": 4,
 "nbformat_minor": 4
}
