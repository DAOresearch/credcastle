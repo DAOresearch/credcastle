{
 "cells": [
  {
   "cell_type": "code",
   "execution_count": 1,
   "metadata": {},
   "outputs": [
    {
     "name": "stderr",
     "output_type": "stream",
     "text": [
      "\n",
      "Bad key \"text.kerning_factor\" on line 4 in\n",
      "/home/testingtesting123/miniconda3/envs/cadcad/lib/python3.8/site-packages/matplotlib/mpl-data/stylelib/_classic_test_patch.mplstyle.\n",
      "You probably need to get an updated matplotlibrc file from\n",
      "https://github.com/matplotlib/matplotlib/blob/v3.1.3/matplotlibrc.template\n",
      "or from the matplotlib source distribution\n"
     ]
    }
   ],
   "source": [
    "import random # psuedo randomness generator\n",
    "import numpy as np # import numerical python\n",
    "import matplotlib.pyplot as plt # import matplot library"
   ]
  },
  {
   "cell_type": "code",
   "execution_count": 2,
   "metadata": {},
   "outputs": [],
   "source": [
    "# Params\n",
    "the_end = 100 # days to simulate in credland\n",
    "village_folk = [[np.random.randint(0,10), 0] for i in range(100)] # initialize village folk and their stuff and cred_castle balances\n",
    "castle = 0 # the cred castle\n",
    "castle_token_supply = 0 # the amount of castle tokens"
   ]
  },
  {
   "cell_type": "code",
   "execution_count": 3,
   "metadata": {},
   "outputs": [],
   "source": [
    "# How villagers build the castle \n",
    "def build_castle(villager):\n",
    "    global castle # global castle variable\n",
    "    global castle_token_supply # global token supply variable \n",
    "    \n",
    "    castle += 1 # make castle more awesome\n",
    "    castle_token_supply += 1 # increase castle tokens\n",
    "    villager[1] += 1 # increase villager castle token holdings\n",
    "    \n",
    "    #print(castle_token_supply)\n",
    "    #print(villager)\n",
    "\n",
    "# Run the function\n",
    "#build_castle(village_folk[8])"
   ]
  },
  {
   "cell_type": "code",
   "execution_count": 4,
   "metadata": {},
   "outputs": [],
   "source": [
    "# How villagers sell castle tokens\n",
    "def sell_castle_tokens(villager):\n",
    "    villager[0] += 1 # villager stuff goes up\n",
    "    villager [1] -= 1 # villager stuff goes down\n",
    "    \n",
    "    #print(villager)\n",
    "    \n",
    "# Run the function\n",
    "#sell_castle_tokens(village_folk[8])"
   ]
  },
  {
   "cell_type": "code",
   "execution_count": 5,
   "metadata": {},
   "outputs": [],
   "source": [
    "# How villagers buy castle tokens \n",
    "def buy_castle_tokens(villager):\n",
    "    villager[0] -= 1 # villager stuff goes down\n",
    "    villager [1] += 1 # villager stuff goes up\n",
    "    \n",
    "    #print(villager)\n",
    "    \n",
    "# Run the function\n",
    "#buy_castle_tokens(village_folk[8])"
   ]
  },
  {
   "cell_type": "code",
   "execution_count": 6,
   "metadata": {},
   "outputs": [],
   "source": [
    "# Everyone in CredLand is crazy \n",
    "def villagers_be_crazy():\n",
    "    global village_folk # global village_folk variable\n",
    "    for villager in village_folk: # iterate through all the villagers\n",
    "        fate = random.uniform(0, 1) # random number between 0 and 1 that represents sentiment\n",
    "        if fate > 0.8: # people really care about the castle\n",
    "            buy_castle_tokens(villager) # buy castle tokens\n",
    "        if fate > 0.5: # people care about the castle\n",
    "            build_castle(villager) # make castle better\n",
    "        if fate < 0.5: # people do not care about the castle\n",
    "            sell_castle_tokens(villager) # sell castle tokens"
   ]
  },
  {
   "cell_type": "code",
   "execution_count": null,
   "metadata": {},
   "outputs": [],
   "source": [
    "# Smarter CredLand villagers\n",
    "def smart_villagers():\n",
    "    global village_folk # global village_folk variable\n",
    "    for villager in village_folk: # iterate through all the villagers\n",
    "        # decisions are made based on invironmental variables such as the liklihood of a raid and the season "
   ]
  },
  {
   "cell_type": "code",
   "execution_count": 23,
   "metadata": {},
   "outputs": [],
   "source": [
    "# Feed the dragons\n",
    "def feed_the_dragons():\n",
    "    global village_folk # global village_folk variable\n",
    "    for villager in village_folk: # iterate through all the villagers\n",
    "        if any(v < 0 for v in villager): # if any of the villager's assets are less than 0\n",
    "            print('Shame, shame... ', villager) # shame the villager\n",
    "            village_folk.remove(villager) # let the villager fend for themselves"
   ]
  },
  {
   "cell_type": "code",
   "execution_count": 24,
   "metadata": {},
   "outputs": [
    {
     "name": "stdout",
     "output_type": "stream",
     "text": [
      "Shame, shame...  [8, -1]\n"
     ]
    }
   ],
   "source": [
    "# Run the model\n",
    "day = 0 # starting at day 0\n",
    "if day < the_end: # we're still alive!\n",
    "    villagers_be_crazy() # run the random villgaer policy\n",
    "    day += 1 # it's a new day\n",
    "feed_the_dragons() # feed indebted vilagers to the dragons"
   ]
  },
  {
   "cell_type": "code",
   "execution_count": 29,
   "metadata": {},
   "outputs": [
    {
     "name": "stdout",
     "output_type": "stream",
     "text": [
      "Castle:  239\n",
      "Total village folk:  47\n",
      "Village folk:  [[3, 2], [7, 3], [5, 0], [9, 2], [7, 5], [10, 4], [4, 2], [2, 8], [5, 2], [5, 0], [2, 3], [2, 7], [11, 2], [5, -1], [5, 3], [3, 3], [6, 0], [8, 6], [1, 5], [3, 4], [10, 2], [2, 7], [3, 7], [4, 6], [9, 0], [1, 4], [6, 0], [9, 0], [3, 2], [2, 4], [9, 5], [3, 5], [8, 1], [9, 4], [4, 8], [2, 8], [2, 7], [10, 3], [2, 4], [4, 1], [2, 3], [6, 4], [6, 1], [5, 2], [4, 2], [5, 8], [2, 4]]\n"
     ]
    }
   ],
   "source": [
    "# Check the results\n",
    "print('Castle: ', castle)\n",
    "print('Total village folk: ', len(village_folk))\n",
    "print('Village folk: ', village_folk)"
   ]
  },
  {
   "cell_type": "code",
   "execution_count": 10,
   "metadata": {},
   "outputs": [],
   "source": [
    "# Next Steps\n",
    "#   Create castle_token marketplace \n",
    "#   Environmental variables that affect village_folk sentiment"
   ]
  },
  {
   "cell_type": "code",
   "execution_count": null,
   "metadata": {},
   "outputs": [],
   "source": []
  }
 ],
 "metadata": {
  "kernelspec": {
   "display_name": "Python 3",
   "language": "python",
   "name": "python3"
  },
  "language_info": {
   "codemirror_mode": {
    "name": "ipython",
    "version": 3
   },
   "file_extension": ".py",
   "mimetype": "text/x-python",
   "name": "python",
   "nbconvert_exporter": "python",
   "pygments_lexer": "ipython3",
   "version": "3.8.3"
  }
 },
 "nbformat": 4,
 "nbformat_minor": 4
}
